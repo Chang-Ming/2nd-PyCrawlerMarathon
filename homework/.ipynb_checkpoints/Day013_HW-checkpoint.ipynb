{
 "cells": [
  {
   "cell_type": "markdown",
   "metadata": {},
   "source": [
    "# PTT 網路爬蟲實作練習\n",
    "\n",
    "\n",
    "* 能夠利用 Request + BeatifulSour 撰寫爬蟲，並存放到合適的資料結構\n"
   ]
  },
  {
   "cell_type": "markdown",
   "metadata": {},
   "source": [
    "## 作業目標\n",
    "\n",
    "根據範例 ，完成以下問題：\n",
    "\n",
    "* ① 印出最新文章的「作者」「標題」「時間」\n",
    "* ② 印出第一頁所有文章的「作者」「標題」「時間」\n"
   ]
  },
  {
   "cell_type": "markdown",
   "metadata": {},
   "source": [
    "### ① 印出最新文章的「作者」「標題」「時間」"
   ]
  },
  {
   "cell_type": "code",
   "execution_count": 29,
   "metadata": {},
   "outputs": [
    {
     "data": {
      "text/plain": [
       "{'作者': 'Vedan (味丹)',\n",
       " '標題': 'Fw: [公告] 即日起開放 NTU 信箱註冊帳號',\n",
       " '時間': 'Wed Mar  4 12:50:19 2020'}"
      ]
     },
     "execution_count": 29,
     "metadata": {},
     "output_type": "execute_result"
    }
   ],
   "source": [
    "import requests\n",
    "from bs4 import BeautifulSoup\n",
    "\n",
    "url = 'https://www.ptt.cc/bbs/NBA/index.html'\n",
    "r = requests.get(url)\n",
    "\n",
    "soup = BeautifulSoup(r.text, \"html5lib\")\n",
    "\n",
    "posts = []\n",
    "for d in soup.find_all(class_=\"title\"):\n",
    "    try:\n",
    "        post = {}\n",
    "        r = BeautifulSoup(requests.get('https://www.ptt.cc'+d.find('a')['href']).text, \"html5lib\")\n",
    "        post['作者'] = r.find_all(class_='article-meta-value')[0].text\n",
    "        post['標題'] = r.find_all(class_='article-meta-value')[2].text\n",
    "        post['時間'] = r.find_all(class_='article-meta-value')[-1].text\n",
    "        \n",
    "        posts.append(post)\n",
    "    except:\n",
    "        continue\n",
    "posts = sorted(posts, key = lambda x: x['時間'])\n",
    "posts[-1]"
   ]
  },
  {
   "cell_type": "markdown",
   "metadata": {},
   "source": [
    "### ② 印出第一頁所有文章的「作者」「標題」「時間」"
   ]
  },
  {
   "cell_type": "code",
   "execution_count": 15,
   "metadata": {},
   "outputs": [
    {
     "name": "stdout",
     "output_type": "stream",
     "text": [
      "作者: PttGod (PttGod)\n",
      "標題: [情報] 蘭德爾：羅賓遜不用擔心技犯，我會幫他付\n",
      "時間: Mon Mar  9 20:12:28 2020\n",
      "\n",
      "作者: Ginpunch (南城阿鬼)\n",
      "標題: Re: [情報] SNY記者：一些籃網老將質疑阿特金森能否\n",
      "時間: Mon Mar  9 20:23:14 2020\n",
      "\n",
      "作者: go190214 (天空之島拉普達)\n",
      "標題: [新聞] 重建有功仍再見 波總幫說話\n",
      "時間: Mon Mar  9 20:23:22 2020\n",
      "\n",
      "作者: PttGod (PttGod)\n",
      "標題: [花邊] 憤怒的獅王！詹姆斯發怒吼慶祝照自比雄獅\n",
      "時間: Mon Mar  9 20:41:36 2020\n",
      "\n",
      "作者: timmyen (Ako)\n",
      "標題: Re: [討論] LBJ現今擁有的成就已經能超過賈霸了嗎\n",
      "時間: Mon Mar  9 21:48:51 2020\n",
      "\n",
      "作者: asdf1256 (guest)\n",
      "標題: [新聞] 懊悔年少不懂理財！退役NBA巨星韋德脫手\n",
      "時間: Mon Mar  9 22:11:28 2020\n",
      "\n",
      "作者: vogue38 (這年)\n",
      "標題: Re: [討論] Curry是不是現今有成就也不被認可的球員?\n",
      "時間: Mon Mar  9 22:27:38 2020\n",
      "\n",
      "作者: Acetoxy (阿斯)\n",
      "標題: [情報] James轉發Kuzma為其佩戴皇冠畫面：你個傻\n",
      "時間: Mon Mar  9 22:48:36 2020\n",
      "\n",
      "作者: bbbyes123 (冬日將至)\n",
      "標題: [情報] KD、KI從未與阿金建立起聯繫，小喬丹對於\n",
      "時間: Mon Mar  9 23:13:58 2020\n",
      "\n",
      "作者: qazwsx879345 (Rajon Rondo)\n",
      "標題: [公告] 版主上任相關事項\n",
      "時間: Fri Oct 25 10:44:03 2019\n",
      "\n",
      "作者: Acetoxy (阿斯)\n",
      "標題: [情報] SEASON Schedule 賽程 March 19–20\n",
      "時間: Mon Mar  2 01:19:40 2020\n",
      "\n",
      "作者: Vedan (味丹)\n",
      "標題: Fw: [公告] 即日起開放 NTU 信箱註冊帳號\n",
      "時間: Wed Mar  4 12:50:19 2020\n",
      "\n",
      "作者: Vedan (味丹)\n",
      "標題: [公告] 第一次被退文，可在三天後刪除退文\n",
      "時間: Mon Mar  9 11:44:26 2020\n",
      "\n"
     ]
    }
   ],
   "source": [
    "import requests\n",
    "from bs4 import BeautifulSoup\n",
    "\n",
    "url = 'https://www.ptt.cc/bbs/NBA/index.html'\n",
    "r = requests.get(url)\n",
    "\n",
    "soup = BeautifulSoup(r.text, \"html5lib\")\n",
    "\n",
    "for d in soup.find_all(class_=\"title\"):\n",
    "    try:\n",
    "        r = BeautifulSoup(requests.get('https://www.ptt.cc'+d.find('a')['href']).text, \"html5lib\")\n",
    "        print('作者: ' + r.find_all(class_='article-meta-value')[0].text)\n",
    "        print('標題: ' + r.find_all(class_='article-meta-value')[2].text)\n",
    "        print('時間: ' + r.find_all(class_='article-meta-value')[-1].text)\n",
    "        print('')\n",
    "    except:\n",
    "        continue"
   ]
  },
  {
   "cell_type": "markdown",
   "metadata": {},
   "source": [
    "### ③ 試著爬爬看其他版的文章"
   ]
  },
  {
   "cell_type": "code",
   "execution_count": 17,
   "metadata": {},
   "outputs": [
    {
     "name": "stdout",
     "output_type": "stream",
     "text": [
      "作者: aki1023 (秋月近1公分沒辦法呀)\n",
      "標題: [閒聊] 列車上的1C作戰？\n",
      "時間: Mon Mar  9 19:31:25 2020\n",
      "\n",
      "作者: davidex (玉藻前我的)\n",
      "標題: [情報] 神魔之塔X鋼之鍊金術師 MyCard限定活動\n",
      "時間: Mon Mar  9 19:37:21 2020\n",
      "\n",
      "作者: [彩券]\n",
      "標題: [公告] ToS 樂透開獎 \n",
      "時間: Mon Mar  9 20:44:05 2020\n",
      "\n",
      "作者: acer5738G (綠膿桿菌)\n",
      "標題: [問題] 為什麼愛德華矮人一截\n",
      "時間: Mon Mar  9 21:04:50 2020\n",
      "\n",
      "作者: windsoul0312 (開心比較重要)\n",
      "標題: [問題] 大佐+基加美修\n",
      "時間: Mon Mar  9 21:22:01 2020\n",
      "\n",
      "作者: kobe9527 (狗鼻9527)\n",
      "標題: [閒聊] 遊戲內顯示龍刻有什麼用？\n",
      "時間: Mon Mar  9 21:59:41 2020\n",
      "\n",
      "作者: Rbaonlday (她愛MJ我愛她)\n",
      "標題: [問題] 是遊戲壞了還是我手機壞了？\n",
      "時間: Mon Mar  9 23:03:26 2020\n",
      "\n",
      "作者: angelio (Emilio)\n",
      "標題: [板規] ToS板規暨板規建議 + 文章推薦/檢舉區\n",
      "時間: Thu Aug  1 02:15:01 2019\n",
      "\n",
      "作者: maxliao (毛人愛雷克)\n",
      "標題: [公告] 一抽入魂/五選一/健檢>請去置底詢問\n",
      "時間: Fri Feb 21 12:20:20 2020\n",
      "\n",
      "作者: maxliao (毛人愛雷克)\n",
      "標題: [18.4] 抽卡置底集中串 (石抽友抽等)\n",
      "時間: Mon Mar  9 00:29:45 2020\n",
      "\n",
      "作者: maxliao (毛人愛雷克)\n",
      "標題: [18.4] 每週慶祝活動 + 置底閒聊區 Week 1\n",
      "時間: Mon Mar  9 00:38:25 2020\n",
      "\n"
     ]
    }
   ],
   "source": [
    "import requests\n",
    "from bs4 import BeautifulSoup\n",
    "\n",
    "url = 'https://www.ptt.cc/bbs/ToS/index.html'\n",
    "r = requests.get(url)\n",
    "\n",
    "soup = BeautifulSoup(r.text, \"html5lib\")\n",
    "\n",
    "for d in soup.find_all(class_=\"title\"):\n",
    "    try:\n",
    "        r = BeautifulSoup(requests.get('https://www.ptt.cc'+d.find('a')['href']).text, \"html5lib\")\n",
    "        print('作者: ' + r.find_all(class_='article-meta-value')[0].text)\n",
    "        print('標題: ' + r.find_all(class_='article-meta-value')[2].text)\n",
    "        print('時間: ' + r.find_all(class_='article-meta-value')[-1].text)\n",
    "        print('')\n",
    "    except:\n",
    "        continue"
   ]
  },
  {
   "cell_type": "code",
   "execution_count": null,
   "metadata": {},
   "outputs": [],
   "source": []
  }
 ],
 "metadata": {
  "kernelspec": {
   "display_name": "Python 3",
   "language": "python",
   "name": "python3"
  },
  "language_info": {
   "codemirror_mode": {
    "name": "ipython",
    "version": 3
   },
   "file_extension": ".py",
   "mimetype": "text/x-python",
   "name": "python",
   "nbconvert_exporter": "python",
   "pygments_lexer": "ipython3",
   "version": "3.7.4"
  }
 },
 "nbformat": 4,
 "nbformat_minor": 2
}
