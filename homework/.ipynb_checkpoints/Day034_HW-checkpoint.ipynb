{
 "cells": [
  {
   "cell_type": "markdown",
   "metadata": {
    "colab_type": "text",
    "id": "I8CoX4R7VoCd"
   },
   "source": [
    "# 反爬：代理伺服器/IP\n",
    "\n",
    "* 了解「IP 黑/白名單」的反爬蟲機制\n",
    "* 「IP 黑/白名單」反爬蟲的因應策略"
   ]
  },
  {
   "cell_type": "markdown",
   "metadata": {
    "colab_type": "text",
    "id": "n-3DZ_r5VoCe"
   },
   "source": [
    "## 作業目標\n",
    "\n",
    "* 目前程式中的 proxy_ips 是手動輸入的，請根據 https://free-proxy-list.net/ 寫一個可自動化抓取可用 Proxy 的 proxy_ips。\n",
    "\n",
    "\n"
   ]
  },
  {
   "cell_type": "code",
   "execution_count": 13,
   "metadata": {},
   "outputs": [],
   "source": [
    "from bs4 import BeautifulSoup\n",
    "import requests\n",
    "import random"
   ]
  },
  {
   "cell_type": "code",
   "execution_count": 14,
   "metadata": {},
   "outputs": [
    {
     "name": "stdout",
     "output_type": "stream",
     "text": [
      "['131.221.32.180:8080', '200.89.178.241:80', '139.59.169.246:3128', '139.59.59.63:8080', '159.65.151.96:8080', '154.16.63.16:8080', '188.6.164.138:55042', '27.123.255.82:30029', '159.8.114.37:8123', '138.122.140.35:3128', '139.59.61.229:8080', '188.166.83.20:3128', '45.127.134.195:8080', '176.9.75.42:8080', '138.197.146.74:8080', '139.59.64.9:8080', '188.166.83.34:3128', '190.7.141.66:44945', '200.7.193.229:58218', '138.197.157.32:8080', '200.73.129.85:8888', '181.117.176.236:61358', '188.226.141.61:3128', '177.91.111.233:8080', '128.199.77.66:47503', '88.198.24.108:8080', '154.16.202.22:8080', '3.124.80.57:80', '144.217.163.138:8080', '169.57.157.148:8123', '78.62.214.242:60678', '125.25.80.39:42790', '207.154.231.213:8080', '82.196.11.105:8080', '103.105.77.21:8080', '94.101.141.245:80', '178.62.193.19:3128', '200.89.178.231:3128', '41.217.219.49:54302', '138.197.145.103:8080', '46.4.96.137:3128', '207.154.231.212:8080', '188.226.141.127:3128', '85.47.31.179:3128', '188.166.83.13:3128', '138.197.157.44:8080', '118.200.73.124:8080', '138.68.173.29:8080', '138.68.165.154:3128', '200.89.159.192:80', '90.83.244.82:8080', '207.154.231.216:8080', '138.197.157.45:8080', '185.85.190.155:80', '119.42.106.210:57248', '80.211.228.27:8080', '139.59.109.156:3128', '191.252.100.178:8080', '112.199.192.47:8080', '45.187.67.254:45100', '138.197.157.60:3128', '190.186.76.19:8197', '119.28.133.75:80', '176.105.255.33:3128', '80.187.140.26:8080', '201.64.22.51:80', '128.199.217.244:47503', '178.134.71.138:35942', '43.248.24.157:51166', '188.226.141.211:3128', '88.198.50.103:8080', '185.21.217.20:3128', '102.67.19.132:8080', '188.166.83.17:3128', '103.221.254.102:31117', '31.146.31.182:3128', '139.59.99.119:3128', '190.152.125.250:43133', '161.202.226.194:8123', '18.194.147.163:80', '157.230.32.207:3128', '195.239.178.110:55913', '207.154.231.217:3128', '51.38.71.101:8080', '203.160.190.250:61161', '207.154.231.211:3128', '176.9.119.170:8080', '138.68.161.60:8080', '47.52.36.33:80', '139.59.101.223:8080', '5.252.161.48:8080', '139.59.62.255:3128', '176.195.22.156:47099', '95.85.36.236:3128', '85.10.219.98:1080', '138.68.161.14:3128', '206.189.36.13:47503', '139.59.99.63:3128', '37.135.50.220:53281', '89.36.195.238:44006']\n"
     ]
    }
   ],
   "source": [
    "proxy_ips = []\n",
    "\n",
    "url = 'https://free-proxy-list.net/'\n",
    "response = requests.get(url)\n",
    "soup = BeautifulSoup(response.text, 'lxml')\n",
    "for tr in soup.find('tbody').find_all('tr')[:100]:\n",
    "    proxy = tr.find_all('td')[0].text + ':' + tr.find_all('td')[1].text\n",
    "    proxy_ips.append(proxy)\n",
    "    \n",
    "print(proxy_ips)"
   ]
  },
  {
   "cell_type": "code",
   "execution_count": 16,
   "metadata": {},
   "outputs": [
    {
     "name": "stdout",
     "output_type": "stream",
     "text": [
      "Use 131.221.32.180:8080\n",
      "Fail\n",
      "Use 200.89.178.241:80\n",
      "Fail\n",
      "Use 139.59.169.246:3128\n",
      "Your IP address: 139.59.169.246\n",
      "Use 139.59.59.63:8080\n",
      "Your IP address: 139.59.59.63\n",
      "Use 159.65.151.96:8080\n",
      "Your IP address: 159.65.151.96\n",
      "Use 154.16.63.16:8080\n",
      "Your IP address: 154.16.63.16\n",
      "Use 188.6.164.138:55042\n",
      "Fail\n",
      "Use 27.123.255.82:30029\n",
      "Fail\n",
      "Use 159.8.114.37:8123\n",
      "Fail\n",
      "Use 138.122.140.35:3128\n",
      "Your IP address: 138.122.140.35\n",
      "Use 139.59.61.229:8080\n",
      "Your IP address: 139.59.61.229\n",
      "['139.59.169.246:3128', '139.59.59.63:8080', '159.65.151.96:8080', '154.16.63.16:8080', '138.122.140.35:3128', '139.59.61.229:8080']\n"
     ]
    }
   ],
   "source": [
    "available_proxies = []\n",
    "\n",
    "for i in range(100):\n",
    "    ip = proxy_ips[i]\n",
    "    print('Use', ip)\n",
    "    try:\n",
    "        resp = requests.get('http://ip.filefab.com/index.php',\n",
    "                        proxies={'http': ip, 'https': ip}, timeout=10)\n",
    "        soup = BeautifulSoup(resp.text, 'html5lib')\n",
    "        print(soup.find('h1', id='ipd').text.strip())\n",
    "        available_proxies.append(ip)\n",
    "        if len(available_proxies) > 5:\n",
    "            break\n",
    "    except:\n",
    "        print('Fail')\n",
    "    \n",
    "print(available_proxies)"
   ]
  },
  {
   "cell_type": "code",
   "execution_count": 18,
   "metadata": {},
   "outputs": [
    {
     "name": "stdout",
     "output_type": "stream",
     "text": [
      "Use 139.59.169.246:3128\n",
      "Fail\n",
      "Use 139.59.59.63:8080\n",
      "Fail\n",
      "Use 159.65.151.96:8080\n",
      "Fail\n",
      "Use 154.16.63.16:8080\n",
      "Fail\n",
      "Use 138.122.140.35:3128\n",
      "Fail\n",
      "Use 139.59.61.229:8080\n",
      "Fail\n"
     ]
    }
   ],
   "source": [
    "# 將前面找出的可用代理伺服器，再發送至 https://httpbin.org/ip 查看是否代理（偷換 IP）成功\n",
    "\n",
    "for ip in available_proxies:\n",
    "    print('Use', ip)\n",
    "    try:\n",
    "        resp = requests.get('https://httpbin.org/ip',\n",
    "                        proxies={'http': ip, 'https': ip}, timeout=10)\n",
    "        print(resp.json())\n",
    "    except:\n",
    "        print('Fail')"
   ]
  },
  {
   "cell_type": "code",
   "execution_count": 15,
   "metadata": {
    "colab": {},
    "colab_type": "code",
    "id": "75dIsHjiVoCi"
   },
   "outputs": [
    {
     "name": "stdout",
     "output_type": "stream",
     "text": [
      "Use 188.166.83.20:3128\n",
      "Your IP address: 188.166.83.20\n",
      "Use 190.152.125.250:43133\n",
      "Fail\n",
      "Use 154.16.202.22:8080\n",
      "Your IP address: 154.16.202.22\n",
      "Use 80.211.228.27:8080\n",
      "Your IP address: 80.211.228.27\n",
      "Use 41.217.219.49:54302\n",
      "Fail\n",
      "Use 139.59.109.156:3128\n",
      "Your IP address: 139.59.109.156\n",
      "Use 178.134.71.138:35942\n",
      "Fail\n",
      "Use 138.68.165.154:3128\n",
      "Your IP address: 138.68.165.154\n",
      "Use 207.154.231.216:8080\n",
      "Your IP address: 207.154.231.216\n",
      "Use 200.7.193.229:58218\n",
      "Fail\n"
     ]
    }
   ],
   "source": [
    "for i in range(10):\n",
    "    ip = random.choice(proxy_ips)\n",
    "    print('Use', ip)\n",
    "    try:\n",
    "        resp = requests.get('http://ip.filefab.com/index.php',\n",
    "                        proxies={'http': ip, 'https': ip}, timeout=10)\n",
    "        soup = BeautifulSoup(resp.text, 'html5lib')\n",
    "        print(soup.find('h1', id='ipd').text.strip())\n",
    "    except:\n",
    "        print('Fail')"
   ]
  },
  {
   "cell_type": "code",
   "execution_count": null,
   "metadata": {},
   "outputs": [],
   "source": []
  }
 ],
 "metadata": {
  "colab": {
   "name": "homework.ipynb",
   "provenance": []
  },
  "kernelspec": {
   "display_name": "Python 3",
   "language": "python",
   "name": "python3"
  },
  "language_info": {
   "codemirror_mode": {
    "name": "ipython",
    "version": 3
   },
   "file_extension": ".py",
   "mimetype": "text/x-python",
   "name": "python",
   "nbconvert_exporter": "python",
   "pygments_lexer": "ipython3",
   "version": "3.7.4"
  }
 },
 "nbformat": 4,
 "nbformat_minor": 1
}
