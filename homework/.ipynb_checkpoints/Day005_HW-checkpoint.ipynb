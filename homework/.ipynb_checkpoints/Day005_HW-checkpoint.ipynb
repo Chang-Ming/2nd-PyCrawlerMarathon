{
 "cells": [
  {
   "cell_type": "markdown",
   "metadata": {},
   "source": [
    "# API 資料串接 - 以 Dcard API 實作範例\n",
    "\n",
    "* 了解 Dcard API 使用方式與回傳內容\n",
    "* 撰寫程式存取 API 且解析 JSON 格式資料\n"
   ]
  },
  {
   "cell_type": "markdown",
   "metadata": {},
   "source": [
    "## 作業目標\n",
    "\n",
    "* 請利用 API: https://www.dcard.tw/_api/forums/pet/posts?popular=true 回答下列問題：\n",
    "\n",
    "1. 這個 API 一次會回傳幾筆資料？每一筆資料包含哪些欄位？\n",
    "2. 取出每一筆資料的「標題」、「貼文時間」、「留言人數」、「按讚人數」\n",
    "3. 計算熱門/非熱門文章的「平均留言人數」與「平均按讚人數」"
   ]
  },
  {
   "cell_type": "code",
   "execution_count": 1,
   "metadata": {},
   "outputs": [],
   "source": [
    "import requests\n",
    "import json\n",
    "\n",
    "r = requests.get('https://www.dcard.tw/_api/forums/pet/posts?popular=true')\n",
    "response = r.text\n",
    "data = json.loads(response)"
   ]
  },
  {
   "cell_type": "code",
   "execution_count": 2,
   "metadata": {},
   "outputs": [
    {
     "name": "stdout",
     "output_type": "stream",
     "text": [
      "30\n",
      "dict_keys(['id', 'title', 'excerpt', 'anonymousSchool', 'anonymousDepartment', 'pinned', 'forumId', 'replyId', 'createdAt', 'updatedAt', 'commentCount', 'likeCount', 'withNickname', 'tags', 'topics', 'meta', 'forumName', 'forumAlias', 'gender', 'school', 'department', 'replyTitle', 'mediaMeta', 'reactions', 'hidden', 'customStyle', 'isSuspiciousAccount', 'layout', 'withImages', 'withVideos', 'media', 'reportReasonText', 'postAvatar'])\n"
     ]
    }
   ],
   "source": [
    "# 1. 這個 API 一次會回傳幾筆資料？每一筆資料包含哪些欄位？\n",
    "\n",
    "print(len(data))\n",
    "print(data[0].keys())"
   ]
  },
  {
   "cell_type": "code",
   "execution_count": 3,
   "metadata": {},
   "outputs": [
    {
     "name": "stdout",
     "output_type": "stream",
     "text": [
      "養了一隻小老虎！？ 2020-02-26T14:44:47.830Z 149 7491\n",
      "你要工人？ 2020-02-26T18:35:16.716Z 7 705\n",
      "有人有看過這麼有喜感的貓嗎 2020-02-27T00:41:45.740Z 29 671\n",
      "我的夢幻玉米蛇😭 2020-02-26T17:59:21.848Z 23 485\n",
      "天氣好想拍貓 天氣不好想拍貓 2020-02-26T17:05:42.877Z 1 130\n",
      "小蝦蝦不知道可不可以上熱門🥺 2020-02-26T22:13:53.583Z 17 113\n",
      "柴上柴 2020-02-26T06:47:10.008Z 1 74\n",
      "#圖 在公園遛天竺鼠ヽ(✿ﾟ▽ﾟ)ノ 2020-02-27T08:00:49.162Z 2 39\n",
      "看起來很衰的臘腸狗 2020-02-27T03:24:54.078Z 2 28\n",
      "家寵醜照大公開 2020-02-26T09:51:32.971Z 11 25\n",
      "不喜歡洗澡的狗 2020-02-27T01:06:35.270Z 8 24\n",
      "家有隻混了米克斯的金吉拉 2020-02-26T08:26:38.245Z 1 22\n",
      "#圖 飼料也有命中注定？！ 2020-02-26T10:30:31.175Z 3 21\n",
      "（藏獒）天氣這麼好就是要睡覺啊 2020-02-26T10:52:25.053Z 4 18\n",
      "新聞蛙蛙蛙 2020-02-26T11:04:03.310Z 9 16\n",
      "台中兔兔送養🐰 2020-02-26T08:30:58.229Z 6 15\n",
      "柴柴從後面看像什麼！ 2020-02-26T18:19:46.140Z 2 13\n",
      "習慣躺枕頭睡覺 2020-02-27T05:50:41.877Z 2 12\n",
      "拍屁屁奴隸的心聲 2020-02-27T13:38:01.565Z 2 11\n",
      "#圖#鬆獅蜥#鎖匠師傅？ 2020-02-26T14:20:09.986Z 2 11\n",
      "露屁屁外星人 2020-02-27T07:09:01.168Z 0 10\n",
      "當你家的貓在看風景時⋯ 2020-02-27T06:48:59.523Z 0 10\n",
      "家有小三 2020-02-27T10:14:48.735Z 0 9\n",
      "來曬一下可爾必思 2020-02-27T08:19:49.020Z 1 9\n",
      "同學你的貓豪口愛(灬ºωº灬)♡ 2020-02-26T10:36:21.560Z 0 9\n",
      "🐔抓癢 2020-02-27T05:50:48.792Z 2 7\n",
      "學妹揪我一起看貓 2020-02-27T05:18:10.961Z 4 7\n",
      "從小養到大的主子真的信任我嗎 2020-02-27T08:13:49.089Z 5 6\n",
      "來一份豪邁 2020-02-26T09:55:33.185Z 0 6\n",
      "[抒發文]小狗狗去天堂了 2020-02-27T14:08:40.800Z 1 4\n"
     ]
    }
   ],
   "source": [
    "# 2. 取出每一筆資料的「標題」、「貼文時間」、「留言人數」、「按讚人數」\n",
    "\n",
    "for d in data:\n",
    "    print(d['title'], d['createdAt'], d['commentCount'], d['likeCount'])"
   ]
  },
  {
   "cell_type": "code",
   "execution_count": 4,
   "metadata": {},
   "outputs": [
    {
     "name": "stdout",
     "output_type": "stream",
     "text": [
      "9.8\n",
      "333.3666666666667\n",
      "1.8333333333333333\n",
      "6.733333333333333\n"
     ]
    },
    {
     "data": {
      "text/plain": [
       "(None, None)"
      ]
     },
     "execution_count": 4,
     "metadata": {},
     "output_type": "execute_result"
    }
   ],
   "source": [
    "# 3. 計算熱門/非熱門文章的「平均留言人數」與「平均按讚人數」\n",
    "commentCount = 0\n",
    "likeCount = 0\n",
    "n = len(data)\n",
    "for d in data:\n",
    "    commentCount += d['commentCount']\n",
    "    likeCount += d['likeCount']\n",
    "\n",
    "print(commentCount/n), print(likeCount/n)    \n",
    "    \n",
    "r = requests.get('https://www.dcard.tw/_api/forums/pet/posts?popular=false')\n",
    "response = r.text\n",
    "data = json.loads(response)    \n",
    "    \n",
    "commentCount = 0\n",
    "likeCount = 0\n",
    "n = len(data)\n",
    "for d in data:\n",
    "    commentCount += d['commentCount']\n",
    "    likeCount += d['likeCount']    \n",
    "    \n",
    "print(commentCount/n), print(likeCount/n)    "
   ]
  },
  {
   "cell_type": "code",
   "execution_count": null,
   "metadata": {},
   "outputs": [],
   "source": []
  }
 ],
 "metadata": {
  "kernelspec": {
   "display_name": "Python 3",
   "language": "python",
   "name": "python3"
  },
  "language_info": {
   "codemirror_mode": {
    "name": "ipython",
    "version": 3
   },
   "file_extension": ".py",
   "mimetype": "text/x-python",
   "name": "python",
   "nbconvert_exporter": "python",
   "pygments_lexer": "ipython3",
   "version": "3.7.4"
  }
 },
 "nbformat": 4,
 "nbformat_minor": 2
}
